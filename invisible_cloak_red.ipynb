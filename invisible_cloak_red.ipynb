{
 "cells": [
  {
   "cell_type": "code",
   "execution_count": 1,
   "metadata": {},
   "outputs": [],
   "source": [
    "import numpy as np\n",
    "import cv2\n"
   ]
  },
  {
   "cell_type": "code",
   "execution_count": null,
   "metadata": {},
   "outputs": [],
   "source": [
    "'''\n",
    "HSV - Hue Saturation Value\n",
    "\n",
    "H - color \n",
    "S - represents how much color mixed with White \n",
    "V - represents how much color mixed with Black Color \n",
    "\n",
    "HSV means How Human eyes see colors \n",
    "\n",
    "\n",
    "RGB is mixture of Colors \n",
    "HSV means mixture of colors and how much intensity and luminous also as our eyes see\n",
    "\n",
    "'''"
   ]
  },
  {
   "cell_type": "code",
   "execution_count": 5,
   "metadata": {},
   "outputs": [],
   "source": [
    "cap = cv2.VideoCapture(0)\n",
    "back= cv2.imread('./image.jpg')\n",
    "\n",
    "while cap.isOpened():\n",
    "    \n",
    "    retval, frame = cap.read()\n",
    "    \n",
    "    if retval:\n",
    "        #how do we convert rgb to hsv\n",
    "        hsv = cv2.cvtColor(frame,cv2.COLOR_BGR2HSV)\n",
    "        #cv2.imshow(\"hsv\",hsv)\n",
    "        \n",
    "        #how to get hsv value \n",
    "        # lower: Hue-  10,100,1000\n",
    "        #higher: Hue-  h+10,255,255\n",
    "        \n",
    "        #bgr value of red\n",
    "        red = np.uint8([[[0,0,255]]])\n",
    "        hsv_red = cv2.cvtColor(red,cv2.COLOR_BGR2HSV)\n",
    "        #get hsv value of red\n",
    "        #print(hsv_red) - O/P: [0,255,255]\n",
    "        \n",
    "        #threshold the hsv value to get only red colors \n",
    "        l_red = np.array([0,100,100])\n",
    "        h_red = np.array([10,255,255])\n",
    "        \n",
    "        #shows only red color \n",
    "        mask = cv2.inRange(hsv, l_red, h_red)\n",
    "      \n",
    "        #part1 is all things red \n",
    "        #bistwise and is if both match then replace with background i.e sh\n",
    "        part1 = cv2.bitwise_and(back,back,mask=mask)\n",
    "        \n",
    "        #we are reversing the mask here \n",
    "        mask = cv2.bitwise_not(mask)\n",
    "      \n",
    "        #part2 is all things not red \n",
    "        part2 = cv2.bitwise_and(frame,frame,mask=mask)\n",
    "        #cv2.imshow(\"part2\",part2)\n",
    "        \n",
    "        cv2.imshow(\"cloak\",part1 + part2)\n",
    "    \n",
    "        if cv2.waitKey(5) == ord(\"q\"):\n",
    "            break\n",
    "            \n",
    "cap.release()\n",
    "cv2.destroyAllWindows()\n",
    "        \n",
    "        "
   ]
  },
  {
   "cell_type": "code",
   "execution_count": 1,
   "metadata": {},
   "outputs": [
    {
     "ename": "error",
     "evalue": "OpenCV(4.3.0) C:\\projects\\opencv-python\\opencv\\modules\\core\\src\\arithm.cpp:250: error: (-215:Assertion failed) (mtype == CV_8U || mtype == CV_8S) && _mask.sameSize(*psrc1) in function 'cv::binary_op'\n",
     "output_type": "error",
     "traceback": [
      "\u001b[1;31m---------------------------------------------------------------------------\u001b[0m",
      "\u001b[1;31merror\u001b[0m                                     Traceback (most recent call last)",
      "\u001b[1;32m<ipython-input-1-7ad8a127feb7>\u001b[0m in \u001b[0;36m<module>\u001b[1;34m\u001b[0m\n\u001b[0;32m     23\u001b[0m         \u001b[0mmask\u001b[0m\u001b[1;33m=\u001b[0m\u001b[0mcv2\u001b[0m\u001b[1;33m.\u001b[0m\u001b[0minRange\u001b[0m\u001b[1;33m(\u001b[0m\u001b[0mhsv\u001b[0m\u001b[1;33m,\u001b[0m\u001b[0ml_red\u001b[0m\u001b[1;33m,\u001b[0m\u001b[0mu_red\u001b[0m\u001b[1;33m)\u001b[0m\u001b[1;33m\u001b[0m\u001b[1;33m\u001b[0m\u001b[0m\n\u001b[0;32m     24\u001b[0m \u001b[1;33m\u001b[0m\u001b[0m\n\u001b[1;32m---> 25\u001b[1;33m         \u001b[0mpart1\u001b[0m\u001b[1;33m=\u001b[0m\u001b[0mcv2\u001b[0m\u001b[1;33m.\u001b[0m\u001b[0mbitwise_and\u001b[0m\u001b[1;33m(\u001b[0m\u001b[0mback\u001b[0m\u001b[1;33m,\u001b[0m\u001b[0mback\u001b[0m\u001b[1;33m,\u001b[0m\u001b[0mmask\u001b[0m\u001b[1;33m=\u001b[0m\u001b[0mmask\u001b[0m\u001b[1;33m)\u001b[0m\u001b[1;33m\u001b[0m\u001b[1;33m\u001b[0m\u001b[0m\n\u001b[0m\u001b[0;32m     26\u001b[0m         \u001b[0mmask\u001b[0m\u001b[1;33m=\u001b[0m\u001b[0mcv2\u001b[0m\u001b[1;33m.\u001b[0m\u001b[0mbitwise_not\u001b[0m\u001b[1;33m(\u001b[0m\u001b[0mmask\u001b[0m\u001b[1;33m)\u001b[0m\u001b[1;33m\u001b[0m\u001b[1;33m\u001b[0m\u001b[0m\n\u001b[0;32m     27\u001b[0m         \u001b[0mpart2\u001b[0m\u001b[1;33m=\u001b[0m\u001b[0mcv2\u001b[0m\u001b[1;33m.\u001b[0m\u001b[0mbitwise_and\u001b[0m\u001b[1;33m(\u001b[0m\u001b[0mframe\u001b[0m\u001b[1;33m,\u001b[0m\u001b[0mframe\u001b[0m\u001b[1;33m,\u001b[0m\u001b[0mmask\u001b[0m\u001b[1;33m=\u001b[0m\u001b[0mmask\u001b[0m\u001b[1;33m)\u001b[0m\u001b[1;33m\u001b[0m\u001b[1;33m\u001b[0m\u001b[0m\n",
      "\u001b[1;31merror\u001b[0m: OpenCV(4.3.0) C:\\projects\\opencv-python\\opencv\\modules\\core\\src\\arithm.cpp:250: error: (-215:Assertion failed) (mtype == CV_8U || mtype == CV_8S) && _mask.sameSize(*psrc1) in function 'cv::binary_op'\n"
     ]
    }
   ],
   "source": [
    "#santosh \n",
    "import cv2\n",
    "import numpy as np\n",
    "\n",
    "\n",
    "cap=cv2.VideoCapture(0)\n",
    "back=cv2.imread(\"./image.png\")\n",
    "\n",
    "while cap.isOpened():\n",
    "    \n",
    "    ret,frame=cap.read()\n",
    "    \n",
    "    if ret:\n",
    "        hsv=cv2.cvtColor(frame, cv2.COLOR_BGR2HSV)\n",
    "        #cv2.imshow(\"hsv\",hsv)\n",
    "        \n",
    "        red=np.uint8([[[0,0,255]]])\n",
    "        hsv_blue=cv2.cvtColor(red,cv2.COLOR_BGR2HSV)\n",
    "        #print(hsv_blue)\n",
    "        l_red=np.array([0,100,100])\n",
    "        u_red=np.array([10,255,255])\n",
    "        \n",
    "        mask=cv2.inRange(hsv,l_red,u_red)\n",
    "        \n",
    "        part1=cv2.bitwise_and(back,back,mask=mask)\n",
    "        mask=cv2.bitwise_not(mask)\n",
    "        part2=cv2.bitwise_and(frame,frame,mask=mask)\n",
    "        \n",
    "        cv2.imshow(\"cloak\", part1 + part2)\n",
    "        \n",
    "        if cv2.waitKey(5)==ord(\"q\"):\n",
    "            break\n",
    "        \n",
    "cap.release()\n",
    "cv2.destroyAllWindows()"
   ]
  },
  {
   "cell_type": "code",
   "execution_count": null,
   "metadata": {},
   "outputs": [],
   "source": []
  }
 ],
 "metadata": {
  "kernelspec": {
   "display_name": "Python 3",
   "language": "python",
   "name": "python3"
  },
  "language_info": {
   "codemirror_mode": {
    "name": "ipython",
    "version": 3
   },
   "file_extension": ".py",
   "mimetype": "text/x-python",
   "name": "python",
   "nbconvert_exporter": "python",
   "pygments_lexer": "ipython3",
   "version": "3.8.3"
  }
 },
 "nbformat": 4,
 "nbformat_minor": 4
}
